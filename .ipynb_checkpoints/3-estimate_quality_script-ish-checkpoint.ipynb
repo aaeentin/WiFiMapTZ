{
 "cells": [
  {
   "cell_type": "code",
   "execution_count": 1,
   "id": "a34c9003-3889-498e-b593-9c54617b4867",
   "metadata": {},
   "outputs": [],
   "source": [
    "import pandas as pd\n",
    "from lib import QualityEstimator"
   ]
  },
  {
   "cell_type": "code",
   "execution_count": 2,
   "id": "a0699b2d-522d-4517-9d53-a68bb5171a88",
   "metadata": {},
   "outputs": [],
   "source": [
    "record = pd.DataFrame({\n",
    "    \"connection_stats_score\": 0.69,\n",
    "    \"last_conn_date\": \"2022-08-21\",\n",
    "    \"last_seen_date\": \"2021-05-01\",\n",
    "}, index = [0])\n"
   ]
  },
  {
   "cell_type": "code",
   "execution_count": 3,
   "id": "ef1738de-9878-44f5-81af-4d4f09247ea7",
   "metadata": {},
   "outputs": [
    {
     "name": "stdout",
     "output_type": "stream",
     "text": [
      "[LightGBM] [Warning] Accuracy may be bad since you didn't explicitly set num_leaves OR 2^max_depth > num_leaves. (num_leaves=31).\n",
      "Input record:\n",
      "   connection_stats_score last_conn_date last_seen_date\n",
      "0                    0.69     2022-08-21     2021-05-01\n",
      "Predicted quality =  moderate\n"
     ]
    }
   ],
   "source": [
    "estimator = QualityEstimator(model_path = 'lgbm_model.pkl')\n",
    "predict = estimator.predict(record)\n",
    "print(\"Input record:\")\n",
    "print(record)\n",
    "print(\"Predicted quality = \", predict)"
   ]
  },
  {
   "cell_type": "code",
   "execution_count": null,
   "id": "b0c878df-47cd-4961-a859-db8783d7191c",
   "metadata": {},
   "outputs": [],
   "source": []
  }
 ],
 "metadata": {
  "kernelspec": {
   "display_name": "Python 3 (ipykernel)",
   "language": "python",
   "name": "python3"
  },
  "language_info": {
   "codemirror_mode": {
    "name": "ipython",
    "version": 3
   },
   "file_extension": ".py",
   "mimetype": "text/x-python",
   "name": "python",
   "nbconvert_exporter": "python",
   "pygments_lexer": "ipython3",
   "version": "3.10.7"
  }
 },
 "nbformat": 4,
 "nbformat_minor": 5
}
